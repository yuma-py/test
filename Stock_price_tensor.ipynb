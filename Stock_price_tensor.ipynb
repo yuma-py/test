{
  "nbformat": 4,
  "nbformat_minor": 0,
  "metadata": {
    "colab": {
      "name": "Stock_price_tensor.ipynb",
      "provenance": [],
      "mount_file_id": "1BQjmPCt0bfhsGZOmVqUli0rCv7v6DZIY",
      "authorship_tag": "ABX9TyOEQF3oM4pOMjOCvZOuzSxD",
      "include_colab_link": true
    },
    "kernelspec": {
      "name": "python3",
      "display_name": "Python 3"
    }
  },
  "cells": [
    {
      "cell_type": "markdown",
      "metadata": {
        "id": "view-in-github",
        "colab_type": "text"
      },
      "source": [
        "<a href=\"https://colab.research.google.com/github/yuma-py/test/blob/main/Stock_price_tensor.ipynb\" target=\"_parent\"><img src=\"https://colab.research.google.com/assets/colab-badge.svg\" alt=\"Open In Colab\"/></a>"
      ]
    },
    {
      "cell_type": "code",
      "metadata": {
        "id": "hHmBqd3ZmJp8"
      },
      "source": [
        "import numpy as np\n",
        "import pandas as pd\n",
        "import matplotlib.pyplot as plt\n",
        "import tensorflow as tf"
      ],
      "execution_count": null,
      "outputs": []
    },
    {
      "cell_type": "code",
      "metadata": {
        "id": "HOTJ3PYBnPC0"
      },
      "source": [
        "# データセットの読み込み\n",
        "df = pd.read_csv('drive/My Drive/data/1419_2020.csv',\n",
        "    encoding='Shift_JIS')"
      ],
      "execution_count": null,
      "outputs": []
    },
    {
      "cell_type": "code",
      "metadata": {
        "id": "oCQq8hoOnPi0",
        "colab": {
          "base_uri": "https://localhost:8080/",
          "height": 553
        },
        "outputId": "2a0685b3-f0d7-43d3-fa0b-2595b15a9550"
      },
      "source": [
        "df"
      ],
      "execution_count": null,
      "outputs": [
        {
          "output_type": "execute_result",
          "data": {
            "text/html": [
              "<div>\n",
              "<style scoped>\n",
              "    .dataframe tbody tr th:only-of-type {\n",
              "        vertical-align: middle;\n",
              "    }\n",
              "\n",
              "    .dataframe tbody tr th {\n",
              "        vertical-align: top;\n",
              "    }\n",
              "\n",
              "    .dataframe thead th {\n",
              "        text-align: right;\n",
              "    }\n",
              "</style>\n",
              "<table border=\"1\" class=\"dataframe\">\n",
              "  <thead>\n",
              "    <tr style=\"text-align: right;\">\n",
              "      <th></th>\n",
              "      <th>1419 東証1部 タマホーム(株)（建設業）</th>\n",
              "      <th>Unnamed: 1</th>\n",
              "      <th>Unnamed: 2</th>\n",
              "      <th>Unnamed: 3</th>\n",
              "      <th>Unnamed: 4</th>\n",
              "      <th>Unnamed: 5</th>\n",
              "    </tr>\n",
              "  </thead>\n",
              "  <tbody>\n",
              "    <tr>\n",
              "      <th>日付</th>\n",
              "      <td>始値</td>\n",
              "      <td>高値</td>\n",
              "      <td>安値</td>\n",
              "      <td>終値</td>\n",
              "      <td>出来高</td>\n",
              "      <td>終値調整値</td>\n",
              "    </tr>\n",
              "    <tr>\n",
              "      <th>2020-01-06</th>\n",
              "      <td>1625</td>\n",
              "      <td>1634</td>\n",
              "      <td>1605</td>\n",
              "      <td>1623</td>\n",
              "      <td>306300</td>\n",
              "      <td>1623</td>\n",
              "    </tr>\n",
              "    <tr>\n",
              "      <th>2020-01-07</th>\n",
              "      <td>1610</td>\n",
              "      <td>1643</td>\n",
              "      <td>1608</td>\n",
              "      <td>1625</td>\n",
              "      <td>252600</td>\n",
              "      <td>1625</td>\n",
              "    </tr>\n",
              "    <tr>\n",
              "      <th>2020-01-08</th>\n",
              "      <td>1612</td>\n",
              "      <td>1618</td>\n",
              "      <td>1544</td>\n",
              "      <td>1558</td>\n",
              "      <td>585600</td>\n",
              "      <td>1558</td>\n",
              "    </tr>\n",
              "    <tr>\n",
              "      <th>2020-01-09</th>\n",
              "      <td>1563</td>\n",
              "      <td>1568</td>\n",
              "      <td>1518</td>\n",
              "      <td>1520</td>\n",
              "      <td>492200</td>\n",
              "      <td>1520</td>\n",
              "    </tr>\n",
              "    <tr>\n",
              "      <th>...</th>\n",
              "      <td>...</td>\n",
              "      <td>...</td>\n",
              "      <td>...</td>\n",
              "      <td>...</td>\n",
              "      <td>...</td>\n",
              "      <td>...</td>\n",
              "    </tr>\n",
              "    <tr>\n",
              "      <th>2020-08-21</th>\n",
              "      <td>1250</td>\n",
              "      <td>1262</td>\n",
              "      <td>1241</td>\n",
              "      <td>1249</td>\n",
              "      <td>140400</td>\n",
              "      <td>1249</td>\n",
              "    </tr>\n",
              "    <tr>\n",
              "      <th>2020-08-24</th>\n",
              "      <td>1251</td>\n",
              "      <td>1267</td>\n",
              "      <td>1247</td>\n",
              "      <td>1257</td>\n",
              "      <td>189600</td>\n",
              "      <td>1257</td>\n",
              "    </tr>\n",
              "    <tr>\n",
              "      <th>2020-08-25</th>\n",
              "      <td>1269</td>\n",
              "      <td>1273</td>\n",
              "      <td>1253</td>\n",
              "      <td>1259</td>\n",
              "      <td>171200</td>\n",
              "      <td>1259</td>\n",
              "    </tr>\n",
              "    <tr>\n",
              "      <th>2020-08-26</th>\n",
              "      <td>1260</td>\n",
              "      <td>1269</td>\n",
              "      <td>1252</td>\n",
              "      <td>1269</td>\n",
              "      <td>128800</td>\n",
              "      <td>1269</td>\n",
              "    </tr>\n",
              "    <tr>\n",
              "      <th>2020-09-28</th>\n",
              "      <td>1398</td>\n",
              "      <td>1411</td>\n",
              "      <td>1385</td>\n",
              "      <td>1411</td>\n",
              "      <td>286200</td>\n",
              "      <td>1411</td>\n",
              "    </tr>\n",
              "  </tbody>\n",
              "</table>\n",
              "<p>155 rows × 6 columns</p>\n",
              "</div>"
            ],
            "text/plain": [
              "           1419 東証1部 タマホーム(株)（建設業） Unnamed: 1  ... Unnamed: 4 Unnamed: 5\n",
              "日付                              始値         高値  ...        出来高      終値調整値\n",
              "2020-01-06                    1625       1634  ...     306300       1623\n",
              "2020-01-07                    1610       1643  ...     252600       1625\n",
              "2020-01-08                    1612       1618  ...     585600       1558\n",
              "2020-01-09                    1563       1568  ...     492200       1520\n",
              "...                            ...        ...  ...        ...        ...\n",
              "2020-08-21                    1250       1262  ...     140400       1249\n",
              "2020-08-24                    1251       1267  ...     189600       1257\n",
              "2020-08-25                    1269       1273  ...     171200       1259\n",
              "2020-08-26                    1260       1269  ...     128800       1269\n",
              "2020-09-28                    1398       1411  ...     286200       1411\n",
              "\n",
              "[155 rows x 6 columns]"
            ]
          },
          "metadata": {
            "tags": []
          },
          "execution_count": 3
        }
      ]
    },
    {
      "cell_type": "code",
      "metadata": {
        "id": "ZpNXKNimnT0z"
      },
      "source": [
        "# データセットの読み込み（header除去)\n",
        "df_ = pd.read_csv('drive/My Drive/data/1419_2020.csv',\n",
        "    encoding='Shift_JIS',header=1)"
      ],
      "execution_count": null,
      "outputs": []
    },
    {
      "cell_type": "code",
      "metadata": {
        "id": "QalIJHKAxBJg",
        "colab": {
          "base_uri": "https://localhost:8080/",
          "height": 391
        },
        "outputId": "53843de6-47f1-481e-ec85-20b98ed8ce36"
      },
      "source": [
        "df_"
      ],
      "execution_count": null,
      "outputs": [
        {
          "output_type": "execute_result",
          "data": {
            "text/html": [
              "<div>\n",
              "<style scoped>\n",
              "    .dataframe tbody tr th:only-of-type {\n",
              "        vertical-align: middle;\n",
              "    }\n",
              "\n",
              "    .dataframe tbody tr th {\n",
              "        vertical-align: top;\n",
              "    }\n",
              "\n",
              "    .dataframe thead th {\n",
              "        text-align: right;\n",
              "    }\n",
              "</style>\n",
              "<table border=\"1\" class=\"dataframe\">\n",
              "  <thead>\n",
              "    <tr style=\"text-align: right;\">\n",
              "      <th></th>\n",
              "      <th>日付</th>\n",
              "      <th>始値</th>\n",
              "      <th>高値</th>\n",
              "      <th>安値</th>\n",
              "      <th>終値</th>\n",
              "      <th>出来高</th>\n",
              "      <th>終値調整値</th>\n",
              "    </tr>\n",
              "  </thead>\n",
              "  <tbody>\n",
              "    <tr>\n",
              "      <th>0</th>\n",
              "      <td>2020-01-06</td>\n",
              "      <td>1625</td>\n",
              "      <td>1634</td>\n",
              "      <td>1605</td>\n",
              "      <td>1623</td>\n",
              "      <td>306300</td>\n",
              "      <td>1623</td>\n",
              "    </tr>\n",
              "    <tr>\n",
              "      <th>1</th>\n",
              "      <td>2020-01-07</td>\n",
              "      <td>1610</td>\n",
              "      <td>1643</td>\n",
              "      <td>1608</td>\n",
              "      <td>1625</td>\n",
              "      <td>252600</td>\n",
              "      <td>1625</td>\n",
              "    </tr>\n",
              "    <tr>\n",
              "      <th>2</th>\n",
              "      <td>2020-01-08</td>\n",
              "      <td>1612</td>\n",
              "      <td>1618</td>\n",
              "      <td>1544</td>\n",
              "      <td>1558</td>\n",
              "      <td>585600</td>\n",
              "      <td>1558</td>\n",
              "    </tr>\n",
              "    <tr>\n",
              "      <th>3</th>\n",
              "      <td>2020-01-09</td>\n",
              "      <td>1563</td>\n",
              "      <td>1568</td>\n",
              "      <td>1518</td>\n",
              "      <td>1520</td>\n",
              "      <td>492200</td>\n",
              "      <td>1520</td>\n",
              "    </tr>\n",
              "    <tr>\n",
              "      <th>4</th>\n",
              "      <td>2020-01-10</td>\n",
              "      <td>1531</td>\n",
              "      <td>1543</td>\n",
              "      <td>1510</td>\n",
              "      <td>1520</td>\n",
              "      <td>528200</td>\n",
              "      <td>1520</td>\n",
              "    </tr>\n",
              "    <tr>\n",
              "      <th>...</th>\n",
              "      <td>...</td>\n",
              "      <td>...</td>\n",
              "      <td>...</td>\n",
              "      <td>...</td>\n",
              "      <td>...</td>\n",
              "      <td>...</td>\n",
              "      <td>...</td>\n",
              "    </tr>\n",
              "    <tr>\n",
              "      <th>149</th>\n",
              "      <td>2020-08-21</td>\n",
              "      <td>1250</td>\n",
              "      <td>1262</td>\n",
              "      <td>1241</td>\n",
              "      <td>1249</td>\n",
              "      <td>140400</td>\n",
              "      <td>1249</td>\n",
              "    </tr>\n",
              "    <tr>\n",
              "      <th>150</th>\n",
              "      <td>2020-08-24</td>\n",
              "      <td>1251</td>\n",
              "      <td>1267</td>\n",
              "      <td>1247</td>\n",
              "      <td>1257</td>\n",
              "      <td>189600</td>\n",
              "      <td>1257</td>\n",
              "    </tr>\n",
              "    <tr>\n",
              "      <th>151</th>\n",
              "      <td>2020-08-25</td>\n",
              "      <td>1269</td>\n",
              "      <td>1273</td>\n",
              "      <td>1253</td>\n",
              "      <td>1259</td>\n",
              "      <td>171200</td>\n",
              "      <td>1259</td>\n",
              "    </tr>\n",
              "    <tr>\n",
              "      <th>152</th>\n",
              "      <td>2020-08-26</td>\n",
              "      <td>1260</td>\n",
              "      <td>1269</td>\n",
              "      <td>1252</td>\n",
              "      <td>1269</td>\n",
              "      <td>128800</td>\n",
              "      <td>1269</td>\n",
              "    </tr>\n",
              "    <tr>\n",
              "      <th>153</th>\n",
              "      <td>2020-09-28</td>\n",
              "      <td>1398</td>\n",
              "      <td>1411</td>\n",
              "      <td>1385</td>\n",
              "      <td>1411</td>\n",
              "      <td>286200</td>\n",
              "      <td>1411</td>\n",
              "    </tr>\n",
              "  </tbody>\n",
              "</table>\n",
              "<p>154 rows × 7 columns</p>\n",
              "</div>"
            ],
            "text/plain": [
              "             日付    始値    高値    安値    終値     出来高  終値調整値\n",
              "0    2020-01-06  1625  1634  1605  1623  306300   1623\n",
              "1    2020-01-07  1610  1643  1608  1625  252600   1625\n",
              "2    2020-01-08  1612  1618  1544  1558  585600   1558\n",
              "3    2020-01-09  1563  1568  1518  1520  492200   1520\n",
              "4    2020-01-10  1531  1543  1510  1520  528200   1520\n",
              "..          ...   ...   ...   ...   ...     ...    ...\n",
              "149  2020-08-21  1250  1262  1241  1249  140400   1249\n",
              "150  2020-08-24  1251  1267  1247  1257  189600   1257\n",
              "151  2020-08-25  1269  1273  1253  1259  171200   1259\n",
              "152  2020-08-26  1260  1269  1252  1269  128800   1269\n",
              "153  2020-09-28  1398  1411  1385  1411  286200   1411\n",
              "\n",
              "[154 rows x 7 columns]"
            ]
          },
          "metadata": {
            "tags": []
          },
          "execution_count": 5
        }
      ]
    },
    {
      "cell_type": "code",
      "metadata": {
        "id": "0OCOyxlRyMaU",
        "colab": {
          "base_uri": "https://localhost:8080/",
          "height": 391
        },
        "outputId": "85bbe9ed-5d16-4b74-c0b7-c44607a9752e"
      },
      "source": [
        "df2_=df_.drop(columns=['出来高','終値調整値'])\n",
        "df2_"
      ],
      "execution_count": null,
      "outputs": [
        {
          "output_type": "execute_result",
          "data": {
            "text/html": [
              "<div>\n",
              "<style scoped>\n",
              "    .dataframe tbody tr th:only-of-type {\n",
              "        vertical-align: middle;\n",
              "    }\n",
              "\n",
              "    .dataframe tbody tr th {\n",
              "        vertical-align: top;\n",
              "    }\n",
              "\n",
              "    .dataframe thead th {\n",
              "        text-align: right;\n",
              "    }\n",
              "</style>\n",
              "<table border=\"1\" class=\"dataframe\">\n",
              "  <thead>\n",
              "    <tr style=\"text-align: right;\">\n",
              "      <th></th>\n",
              "      <th>日付</th>\n",
              "      <th>始値</th>\n",
              "      <th>高値</th>\n",
              "      <th>安値</th>\n",
              "      <th>終値</th>\n",
              "    </tr>\n",
              "  </thead>\n",
              "  <tbody>\n",
              "    <tr>\n",
              "      <th>0</th>\n",
              "      <td>2020-01-06</td>\n",
              "      <td>1625</td>\n",
              "      <td>1634</td>\n",
              "      <td>1605</td>\n",
              "      <td>1623</td>\n",
              "    </tr>\n",
              "    <tr>\n",
              "      <th>1</th>\n",
              "      <td>2020-01-07</td>\n",
              "      <td>1610</td>\n",
              "      <td>1643</td>\n",
              "      <td>1608</td>\n",
              "      <td>1625</td>\n",
              "    </tr>\n",
              "    <tr>\n",
              "      <th>2</th>\n",
              "      <td>2020-01-08</td>\n",
              "      <td>1612</td>\n",
              "      <td>1618</td>\n",
              "      <td>1544</td>\n",
              "      <td>1558</td>\n",
              "    </tr>\n",
              "    <tr>\n",
              "      <th>3</th>\n",
              "      <td>2020-01-09</td>\n",
              "      <td>1563</td>\n",
              "      <td>1568</td>\n",
              "      <td>1518</td>\n",
              "      <td>1520</td>\n",
              "    </tr>\n",
              "    <tr>\n",
              "      <th>4</th>\n",
              "      <td>2020-01-10</td>\n",
              "      <td>1531</td>\n",
              "      <td>1543</td>\n",
              "      <td>1510</td>\n",
              "      <td>1520</td>\n",
              "    </tr>\n",
              "    <tr>\n",
              "      <th>...</th>\n",
              "      <td>...</td>\n",
              "      <td>...</td>\n",
              "      <td>...</td>\n",
              "      <td>...</td>\n",
              "      <td>...</td>\n",
              "    </tr>\n",
              "    <tr>\n",
              "      <th>149</th>\n",
              "      <td>2020-08-21</td>\n",
              "      <td>1250</td>\n",
              "      <td>1262</td>\n",
              "      <td>1241</td>\n",
              "      <td>1249</td>\n",
              "    </tr>\n",
              "    <tr>\n",
              "      <th>150</th>\n",
              "      <td>2020-08-24</td>\n",
              "      <td>1251</td>\n",
              "      <td>1267</td>\n",
              "      <td>1247</td>\n",
              "      <td>1257</td>\n",
              "    </tr>\n",
              "    <tr>\n",
              "      <th>151</th>\n",
              "      <td>2020-08-25</td>\n",
              "      <td>1269</td>\n",
              "      <td>1273</td>\n",
              "      <td>1253</td>\n",
              "      <td>1259</td>\n",
              "    </tr>\n",
              "    <tr>\n",
              "      <th>152</th>\n",
              "      <td>2020-08-26</td>\n",
              "      <td>1260</td>\n",
              "      <td>1269</td>\n",
              "      <td>1252</td>\n",
              "      <td>1269</td>\n",
              "    </tr>\n",
              "    <tr>\n",
              "      <th>153</th>\n",
              "      <td>2020-09-28</td>\n",
              "      <td>1398</td>\n",
              "      <td>1411</td>\n",
              "      <td>1385</td>\n",
              "      <td>1411</td>\n",
              "    </tr>\n",
              "  </tbody>\n",
              "</table>\n",
              "<p>154 rows × 5 columns</p>\n",
              "</div>"
            ],
            "text/plain": [
              "             日付    始値    高値    安値    終値\n",
              "0    2020-01-06  1625  1634  1605  1623\n",
              "1    2020-01-07  1610  1643  1608  1625\n",
              "2    2020-01-08  1612  1618  1544  1558\n",
              "3    2020-01-09  1563  1568  1518  1520\n",
              "4    2020-01-10  1531  1543  1510  1520\n",
              "..          ...   ...   ...   ...   ...\n",
              "149  2020-08-21  1250  1262  1241  1249\n",
              "150  2020-08-24  1251  1267  1247  1257\n",
              "151  2020-08-25  1269  1273  1253  1259\n",
              "152  2020-08-26  1260  1269  1252  1269\n",
              "153  2020-09-28  1398  1411  1385  1411\n",
              "\n",
              "[154 rows x 5 columns]"
            ]
          },
          "metadata": {
            "tags": []
          },
          "execution_count": 6
        }
      ]
    },
    {
      "cell_type": "code",
      "metadata": {
        "id": "KVQzWuthxCak",
        "colab": {
          "base_uri": "https://localhost:8080/"
        },
        "outputId": "8d31fa7d-7605-42a3-aa17-75448b186bba"
      },
      "source": [
        "# 入力変数と目的変数の切り分け\n",
        "t = df2_['終値'].values\n",
        "x = df2_.drop(labels=['日付'], axis=1).values\n",
        "t"
      ],
      "execution_count": null,
      "outputs": [
        {
          "output_type": "execute_result",
          "data": {
            "text/plain": [
              "array([1623, 1625, 1558, 1520, 1520, 1540, 1418, 1429, 1427, 1426, 1419,\n",
              "       1414, 1384, 1377, 1338, 1349, 1335, 1291, 1293, 1305, 1307, 1448,\n",
              "       1445, 1441, 1404, 1427, 1456, 1431, 1441, 1423, 1429, 1415, 1391,\n",
              "       1371, 1370, 1321, 1266, 1321, 1280, 1276, 1264, 1225, 1102, 1126,\n",
              "       1081, 1030,  928,  940,  980,  998,  982, 1062, 1065, 1162, 1167,\n",
              "       1232, 1227, 1221, 1120, 1072, 1020, 1074, 1123, 1115, 1150, 1177,\n",
              "       1184, 1206, 1150, 1145, 1173, 1194, 1171, 1142, 1163, 1160, 1178,\n",
              "       1210, 1260, 1269, 1280, 1310, 1380, 1386, 1404, 1354, 1341, 1349,\n",
              "       1372, 1395, 1403, 1427, 1465, 1477, 1454, 1383, 1304, 1250, 1245,\n",
              "       1252, 1203, 1268, 1312, 1315, 1296, 1230, 1254, 1191, 1255, 1259,\n",
              "       1243, 1275, 1267, 1361, 1310, 1302, 1234, 1227, 1196, 1186, 1187,\n",
              "       1220, 1214, 1213, 1204, 1170, 1144, 1145, 1150, 1173, 1186, 1177,\n",
              "       1189, 1170, 1167, 1144, 1086, 1129, 1169, 1162, 1183, 1190, 1227,\n",
              "       1240, 1264, 1253, 1244, 1257, 1245, 1249, 1257, 1259, 1269, 1411])"
            ]
          },
          "metadata": {
            "tags": []
          },
          "execution_count": 29
        }
      ]
    },
    {
      "cell_type": "code",
      "metadata": {
        "id": "BwOVKMbAygyL"
      },
      "source": [
        "#前日の始値とかで次の日の終値を求めたいので最後の入力値と最初の終値を削除する\n",
        "#3番目の引数は次元（軸）を対象としている。つまり行（0）か列（1）\n",
        "t_del=np.delete(t,0,0)\n",
        "x_del=np.delete(x,153,0)"
      ],
      "execution_count": null,
      "outputs": []
    },
    {
      "cell_type": "code",
      "metadata": {
        "id": "ywao6-TqJiDI"
      },
      "source": [
        "from sklearn.model_selection import train_test_split\n",
        "train0, test0, train1, test1 = train_test_split(x_del, t_del, test_size=0.2,shuffle=False)\n"
      ],
      "execution_count": null,
      "outputs": []
    },
    {
      "cell_type": "code",
      "metadata": {
        "id": "Y5Kpsy1xktdX",
        "colab": {
          "base_uri": "https://localhost:8080/"
        },
        "outputId": "180f41f1-1839-4860-bab7-605562ac79f8"
      },
      "source": [
        "train0.dtype"
      ],
      "execution_count": null,
      "outputs": [
        {
          "output_type": "execute_result",
          "data": {
            "text/plain": [
              "dtype('int64')"
            ]
          },
          "metadata": {
            "tags": []
          },
          "execution_count": 10
        }
      ]
    },
    {
      "cell_type": "code",
      "metadata": {
        "id": "9hJWJlO_JdDV",
        "colab": {
          "base_uri": "https://localhost:8080/"
        },
        "outputId": "02134140-5907-40b4-efeb-105ba4a3ed99"
      },
      "source": [
        "# 学習用データセット\n",
        "x_train = np.array(train0, np.float32)\n",
        "t_train = np.array(train1, np.int32)\n",
        "\n",
        "# テスト用データセット\n",
        "x_test = np.array(test0, np.float32)\n",
        "t_test = np.array(test1, np.uint32)\n",
        "x_train"
      ],
      "execution_count": null,
      "outputs": [
        {
          "output_type": "execute_result",
          "data": {
            "text/plain": [
              "array([[1625., 1634., 1605., 1623.],\n",
              "       [1610., 1643., 1608., 1625.],\n",
              "       [1612., 1618., 1544., 1558.],\n",
              "       [1563., 1568., 1518., 1520.],\n",
              "       [1531., 1543., 1510., 1520.],\n",
              "       [1545., 1548., 1517., 1540.],\n",
              "       [1501., 1536., 1386., 1418.],\n",
              "       [1438., 1448., 1415., 1429.],\n",
              "       [1442., 1444., 1402., 1427.],\n",
              "       [1425., 1427., 1407., 1426.],\n",
              "       [1427., 1430., 1408., 1419.],\n",
              "       [1416., 1423., 1401., 1414.],\n",
              "       [1403., 1403., 1371., 1384.],\n",
              "       [1385., 1394., 1360., 1377.],\n",
              "       [1345., 1364., 1338., 1338.],\n",
              "       [1325., 1352., 1315., 1349.],\n",
              "       [1333., 1339., 1317., 1335.],\n",
              "       [1318., 1329., 1288., 1291.],\n",
              "       [1282., 1308., 1280., 1293.],\n",
              "       [1263., 1308., 1256., 1305.],\n",
              "       [1287., 1311., 1278., 1307.],\n",
              "       [1597., 1599., 1414., 1448.],\n",
              "       [1470., 1479., 1435., 1445.],\n",
              "       [1445., 1461., 1430., 1441.],\n",
              "       [1432., 1432., 1403., 1404.],\n",
              "       [1406., 1427., 1386., 1427.],\n",
              "       [1420., 1457., 1403., 1456.],\n",
              "       [1463., 1463., 1415., 1431.],\n",
              "       [1412., 1450., 1401., 1441.],\n",
              "       [1441., 1451., 1416., 1423.],\n",
              "       [1423., 1441., 1416., 1429.],\n",
              "       [1439., 1447., 1415., 1415.],\n",
              "       [1413., 1430., 1384., 1391.],\n",
              "       [1292., 1385., 1292., 1371.],\n",
              "       [1350., 1375., 1325., 1370.],\n",
              "       [1353., 1363., 1320., 1321.],\n",
              "       [1275., 1304., 1257., 1266.],\n",
              "       [1236., 1340., 1232., 1321.],\n",
              "       [1389., 1400., 1278., 1280.],\n",
              "       [1264., 1283., 1247., 1276.],\n",
              "       [1285., 1300., 1253., 1264.],\n",
              "       [1247., 1250., 1217., 1225.],\n",
              "       [1176., 1183., 1098., 1102.],\n",
              "       [1055., 1140., 1021., 1126.],\n",
              "       [1123., 1126., 1081., 1081.],\n",
              "       [1051., 1088., 1022., 1030.],\n",
              "       [ 951.,  967.,  898.,  928.],\n",
              "       [ 949.,  993.,  935.,  940.],\n",
              "       [ 925.,  986.,  901.,  980.],\n",
              "       [1006., 1024.,  984.,  998.],\n",
              "       [1013., 1040.,  973.,  982.],\n",
              "       [1012., 1068.,  997., 1062.],\n",
              "       [1085., 1093., 1030., 1065.],\n",
              "       [1143., 1168., 1103., 1162.],\n",
              "       [1158., 1186., 1130., 1167.],\n",
              "       [1215., 1232., 1195., 1232.],\n",
              "       [1204., 1230., 1186., 1227.],\n",
              "       [1228., 1273., 1218., 1221.],\n",
              "       [1210., 1221., 1109., 1120.],\n",
              "       [1086., 1110., 1064., 1072.],\n",
              "       [1060., 1081., 1009., 1020.],\n",
              "       [1009., 1083., 1006., 1074.],\n",
              "       [1127., 1137., 1090., 1123.],\n",
              "       [1124., 1134., 1027., 1115.],\n",
              "       [1139., 1168., 1134., 1150.],\n",
              "       [1161., 1177., 1147., 1177.],\n",
              "       [1180., 1197., 1155., 1184.],\n",
              "       [1200., 1223., 1182., 1206.],\n",
              "       [1238., 1248., 1137., 1150.],\n",
              "       [1140., 1153., 1110., 1145.],\n",
              "       [1155., 1186., 1153., 1173.],\n",
              "       [1180., 1194., 1164., 1194.],\n",
              "       [1189., 1198., 1165., 1171.],\n",
              "       [1162., 1162., 1127., 1142.],\n",
              "       [1149., 1163., 1132., 1163.],\n",
              "       [1156., 1160., 1133., 1160.],\n",
              "       [1165., 1180., 1153., 1178.],\n",
              "       [1188., 1215., 1180., 1210.],\n",
              "       [1236., 1265., 1236., 1260.],\n",
              "       [1269., 1293., 1256., 1269.],\n",
              "       [1280., 1291., 1256., 1280.],\n",
              "       [1295., 1317., 1284., 1310.],\n",
              "       [1340., 1384., 1333., 1380.],\n",
              "       [1398., 1403., 1378., 1386.],\n",
              "       [1380., 1407., 1361., 1404.],\n",
              "       [1396., 1398., 1354., 1354.],\n",
              "       [1380., 1380., 1305., 1341.],\n",
              "       [1350., 1358., 1330., 1349.],\n",
              "       [1377., 1377., 1355., 1372.],\n",
              "       [1370., 1407., 1369., 1395.],\n",
              "       [1410., 1419., 1395., 1403.],\n",
              "       [1409., 1440., 1407., 1427.],\n",
              "       [1456., 1465., 1441., 1465.],\n",
              "       [1465., 1498., 1462., 1477.],\n",
              "       [1473., 1476., 1426., 1454.],\n",
              "       [1367., 1434., 1358., 1383.],\n",
              "       [1370., 1371., 1292., 1304.],\n",
              "       [1290., 1292., 1242., 1250.],\n",
              "       [1255., 1264., 1236., 1245.],\n",
              "       [1259., 1268., 1240., 1252.],\n",
              "       [1253., 1261., 1202., 1203.],\n",
              "       [1200., 1268., 1197., 1268.],\n",
              "       [1299., 1315., 1284., 1312.],\n",
              "       [1316., 1350., 1304., 1315.],\n",
              "       [1300., 1313., 1292., 1296.],\n",
              "       [1284., 1289., 1227., 1230.],\n",
              "       [1172., 1262., 1170., 1254.],\n",
              "       [1264., 1274., 1191., 1191.],\n",
              "       [1242., 1268., 1233., 1255.],\n",
              "       [1245., 1262., 1233., 1259.],\n",
              "       [1251., 1255., 1235., 1243.],\n",
              "       [1253., 1278., 1243., 1275.],\n",
              "       [1267., 1283., 1259., 1267.],\n",
              "       [1357., 1392., 1333., 1361.],\n",
              "       [1350., 1369., 1310., 1310.],\n",
              "       [1300., 1318., 1273., 1302.],\n",
              "       [1277., 1277., 1218., 1234.],\n",
              "       [1266., 1269., 1227., 1227.],\n",
              "       [1247., 1247., 1190., 1196.],\n",
              "       [1200., 1213., 1166., 1186.],\n",
              "       [1186., 1197., 1167., 1187.],\n",
              "       [1217., 1232., 1202., 1220.]], dtype=float32)"
            ]
          },
          "metadata": {
            "tags": []
          },
          "execution_count": 32
        }
      ]
    },
    {
      "cell_type": "code",
      "metadata": {
        "id": "FXSlB8hQQ128",
        "colab": {
          "base_uri": "https://localhost:8080/"
        },
        "outputId": "70f57ee5-bb31-44b9-b18a-74b8b9f7e9ca"
      },
      "source": [
        "x_test.dtype, x_test.shape"
      ],
      "execution_count": null,
      "outputs": [
        {
          "output_type": "execute_result",
          "data": {
            "text/plain": [
              "(dtype('float32'), (31, 4))"
            ]
          },
          "metadata": {
            "tags": []
          },
          "execution_count": 12
        }
      ]
    },
    {
      "cell_type": "code",
      "metadata": {
        "id": "hM1S53ksJ9E6"
      },
      "source": [
        "import os, random\n",
        "\n",
        "def reset_seed(seed=0):\n",
        "    os.environ['PYTHONHASHSEED'] = '0'\n",
        "    random.seed(seed)\n",
        "    np.random.seed(seed)\n",
        "    tf.random.set_seed(seed)\n",
        "#シードを固定する理由は毎回学習した際に誤差が起こる理由がランダムに設定した理由にならないため"
      ],
      "execution_count": null,
      "outputs": []
    },
    {
      "cell_type": "code",
      "metadata": {
        "id": "HTJfStbpKDcc"
      },
      "source": [
        "# シードの固定\n",
        "reset_seed(0)\n",
        "\n",
        "# モデルの定義（Sequential API（初心者向けを使用）\n",
        "model = tf.keras.models.Sequential([\n",
        "    tf.keras.layers.Dense(32, activation='relu', input_shape=(4, )),\n",
        "    #ノード数32の中間層を作成。活性化関数としてReLuを用いる。入力してくる数は4\n",
        "    tf.keras.layers.Dense(1),\n",
        "     #最後の出力は1\n",
        "])\n",
        "\n",
        "# モデルのコンパイル\n",
        "model.compile(optimizer='adam', #どうやって学習を最適化するかを決定\n",
        "              #Optimaizer=最適化アルゴリズム:データや損失関数に基づいて、\n",
        "              #どのようにモデルが更新されて行くかを決める。\n",
        "              #w=w-?みたいなやつのこと\n",
        "              loss='mse',#どうやって損失を定義するかを決定\n",
        "              metrics=['mae'])\n",
        "              #メトリックはとりあえずaccuracy（分類問題は）を選んでおけば良い\n",
        "              #Metrics=評価関数のリスト：評価関数はモデルの性能を測るために用いる。\n",
        "              #この評価結果が訓練にフィードバックされることはない。"
      ],
      "execution_count": null,
      "outputs": []
    },
    {
      "cell_type": "markdown",
      "metadata": {
        "id": "lVMovCzaMpf7"
      },
      "source": [
        "Kerasを使用すると、ディープラーニングのベースとなっている数学的理論の部分をゼロから開発せずとも、比較的短いソースコードで実装することができます。TensorFlow：Googleが開発した機械学習のライブラリ。"
      ]
    },
    {
      "cell_type": "markdown",
      "metadata": {
        "id": "VXb9mXcqPZgG"
      },
      "source": [
        " model=tf.keras.Sequential()でインスタンス化して、model.add()メソッドでひたすら層を積んでいく方式。2行目のtf.keras.layers.Denseでは、二層目のHidden Layerを定義しており、活性化関数のreluを選んで、データ数4であることを示している"
      ]
    },
    {
      "cell_type": "code",
      "metadata": {
        "id": "4qNRa1ZJPY8Y",
        "colab": {
          "base_uri": "https://localhost:8080/",
          "height": 272
        },
        "outputId": "9b3efb7a-fb64-4982-e628-758ca731be41"
      },
      "source": [
        "# モデル構造の可視化\n",
        "tf.keras.utils.plot_model(model)\n",
        "#Dendeは全結合を表す"
      ],
      "execution_count": null,
      "outputs": [
        {
          "output_type": "execute_result",
          "data": {
            "image/png": "[encoded data removed]",
            "text/plain": [
              "<IPython.core.display.Image object>"
            ]
          },
          "metadata": {
            "tags": []
          },
          "execution_count": 15
        }
      ]
    },
    {
      "cell_type": "markdown",
      "metadata": {
        "id": "zZIzKDfArr0y"
      },
      "source": [
        "バッチサイズ・イテレーション\n",
        "\n",
        "データが100個あったとき20個*5ずつに分けたときは\n",
        "バッチサイズは20となる\n",
        "\n",
        "イテレーションは学習するデータが必ず一回は使われる多目の回数であり20個に分けたデータを100個まで使うには5回繰り返さなければならないので\n",
        "イテレーションは5となる\n",
        "\n",
        "エポック\n",
        "エポックは全てのデータを使用したときに1回となるので\n",
        "\n",
        "1エポック＝5イテレーション\n",
        "\n"
      ]
    },
    {
      "cell_type": "code",
      "metadata": {
        "id": "4UiPTkmeL7RQ",
        "colab": {
          "base_uri": "https://localhost:8080/"
        },
        "outputId": "c8f45dc8-36fd-47ab-e0f0-8f8884bc239e"
      },
      "source": [
        "# モデルの学習\n",
        "history = model.fit(x_train, t_train, \n",
        "                    epochs=30,\n",
        "                    batch_size=32,\n",
        "                    validation_data=(x_test, t_test))\n",
        "                    #エポック数とは「一つの訓練データを何回繰り返して学習させるか」の回数を示す。\n",
        "                    #検証データのパフォーマンスをモニタリングするために、(入力値, 目標値) のタプルを渡すと各エポック終わりに渡された推論モードで loss と metrics の値を表示します\n",
        "                    "
      ],
      "execution_count": null,
      "outputs": [
        {
          "output_type": "stream",
          "text": [
            "Epoch 1/30\n",
            "4/4 [==============================] - 0s 34ms/step - loss: 1775923.6250 - mae: 1325.1522 - val_loss: 1411584.7500 - val_mae: 1186.7117\n",
            "Epoch 2/30\n",
            "4/4 [==============================] - 0s 6ms/step - loss: 1527244.6250 - mae: 1228.9567 - val_loss: 1207670.3750 - val_mae: 1097.5782\n",
            "Epoch 3/30\n",
            "4/4 [==============================] - 0s 5ms/step - loss: 1304828.8750 - mae: 1135.0356 - val_loss: 1023451.4375 - val_mae: 1010.3194\n",
            "Epoch 4/30\n",
            "4/4 [==============================] - 0s 5ms/step - loss: 1099320.3750 - mae: 1042.2246 - val_loss: 859376.5000 - val_mae: 925.6990\n",
            "Epoch 5/30\n",
            "4/4 [==============================] - 0s 5ms/step - loss: 917369.5000 - mae: 952.1381 - val_loss: 712952.8750 - val_mae: 843.0405\n",
            "Epoch 6/30\n",
            "4/4 [==============================] - 0s 5ms/step - loss: 757326.8125 - mae: 864.7823 - val_loss: 583669.7500 - val_mae: 762.6473\n",
            "Epoch 7/30\n",
            "4/4 [==============================] - 0s 5ms/step - loss: 615725.0625 - mae: 779.6711 - val_loss: 471229.4688 - val_mae: 685.1003\n",
            "Epoch 8/30\n",
            "4/4 [==============================] - 0s 6ms/step - loss: 493707.1562 - mae: 697.9318 - val_loss: 374687.0312 - val_mae: 610.7113\n",
            "Epoch 9/30\n",
            "4/4 [==============================] - 0s 5ms/step - loss: 389239.0938 - mae: 619.4208 - val_loss: 293081.4688 - val_mae: 539.8969\n",
            "Epoch 10/30\n",
            "4/4 [==============================] - 0s 6ms/step - loss: 301418.7812 - mae: 544.8528 - val_loss: 225217.0000 - val_mae: 473.0007\n",
            "Epoch 11/30\n",
            "4/4 [==============================] - 0s 9ms/step - loss: 228808.7812 - mae: 474.6075 - val_loss: 169773.8750 - val_mae: 410.3333\n",
            "Epoch 12/30\n",
            "4/4 [==============================] - 0s 6ms/step - loss: 170636.4531 - mae: 409.2061 - val_loss: 125227.4219 - val_mae: 351.9908\n",
            "Epoch 13/30\n",
            "4/4 [==============================] - 0s 6ms/step - loss: 124275.2422 - mae: 348.6153 - val_loss: 90238.7188 - val_mae: 298.2700\n",
            "Epoch 14/30\n",
            "4/4 [==============================] - 0s 5ms/step - loss: 87999.7891 - mae: 292.7846 - val_loss: 63456.2188 - val_mae: 249.4518\n",
            "Epoch 15/30\n",
            "4/4 [==============================] - 0s 6ms/step - loss: 60859.0547 - mae: 242.3083 - val_loss: 43437.2500 - val_mae: 205.5253\n",
            "Epoch 16/30\n",
            "4/4 [==============================] - 0s 5ms/step - loss: 40964.2031 - mae: 197.0477 - val_loss: 28895.3867 - val_mae: 166.5044\n",
            "Epoch 17/30\n",
            "4/4 [==============================] - 0s 6ms/step - loss: 26568.0312 - mae: 157.2363 - val_loss: 18710.0156 - val_mae: 132.5008\n",
            "Epoch 18/30\n",
            "4/4 [==============================] - 0s 6ms/step - loss: 16938.5137 - mae: 122.7476 - val_loss: 11785.6328 - val_mae: 103.1744\n",
            "Epoch 19/30\n",
            "4/4 [==============================] - 0s 6ms/step - loss: 10469.7627 - mae: 94.1918 - val_loss: 7290.7212 - val_mae: 78.4790\n",
            "Epoch 20/30\n",
            "4/4 [==============================] - 0s 5ms/step - loss: 6390.7573 - mae: 71.2465 - val_loss: 4504.1543 - val_mae: 58.9992\n",
            "Epoch 21/30\n",
            "4/4 [==============================] - 0s 6ms/step - loss: 4121.4888 - mae: 54.6806 - val_loss: 2848.6477 - val_mae: 43.8239\n",
            "Epoch 22/30\n",
            "4/4 [==============================] - 0s 7ms/step - loss: 2844.1233 - mae: 43.9879 - val_loss: 1932.5193 - val_mae: 33.0131\n",
            "Epoch 23/30\n",
            "4/4 [==============================] - 0s 5ms/step - loss: 2216.3274 - mae: 37.3658 - val_loss: 1463.2938 - val_mae: 25.4645\n",
            "Epoch 24/30\n",
            "4/4 [==============================] - 0s 6ms/step - loss: 1971.9403 - mae: 33.8060 - val_loss: 1244.4163 - val_mae: 22.1024\n",
            "Epoch 25/30\n",
            "4/4 [==============================] - 0s 6ms/step - loss: 1911.2141 - mae: 32.4714 - val_loss: 1154.8622 - val_mae: 20.9280\n",
            "Epoch 26/30\n",
            "4/4 [==============================] - 0s 5ms/step - loss: 1912.3829 - mae: 32.4668 - val_loss: 1124.9143 - val_mae: 20.7241\n",
            "Epoch 27/30\n",
            "4/4 [==============================] - 0s 5ms/step - loss: 1956.8871 - mae: 32.7921 - val_loss: 1116.6843 - val_mae: 20.8042\n",
            "Epoch 28/30\n",
            "4/4 [==============================] - 0s 5ms/step - loss: 1978.3949 - mae: 33.0170 - val_loss: 1115.4240 - val_mae: 20.9416\n",
            "Epoch 29/30\n",
            "4/4 [==============================] - 0s 5ms/step - loss: 1983.2477 - mae: 33.0575 - val_loss: 1115.4207 - val_mae: 20.9418\n",
            "Epoch 30/30\n",
            "4/4 [==============================] - 0s 5ms/step - loss: 1978.3463 - mae: 33.0146 - val_loss: 1116.1393 - val_mae: 20.8482\n"
          ],
          "name": "stdout"
        }
      ]
    },
    {
      "cell_type": "code",
      "metadata": {
        "id": "orxmlmO9Uf8y",
        "colab": {
          "base_uri": "https://localhost:8080/"
        },
        "outputId": "a02d2d57-2bf7-4f93-c2c6-46249aedeba4"
      },
      "source": [
        "# 学習済みモデルの評価\n",
        "score = model.evaluate(x_test, t_test)\n",
        "score"
      ],
      "execution_count": null,
      "outputs": [
        {
          "output_type": "stream",
          "text": [
            "1/1 [==============================] - 0s 1ms/step - loss: 1116.1393 - mae: 20.8482\n"
          ],
          "name": "stdout"
        },
        {
          "output_type": "execute_result",
          "data": {
            "text/plain": [
              "[1116.1392822265625, 20.848234176635742]"
            ]
          },
          "metadata": {
            "tags": []
          },
          "execution_count": 17
        }
      ]
    },
    {
      "cell_type": "code",
      "metadata": {
        "id": "5lAcOOK6eain",
        "colab": {
          "base_uri": "https://localhost:8080/"
        },
        "outputId": "adff32d7-89a9-4e78-c602-9d9d9ed57b92"
      },
      "source": [
        "print(history.history)"
      ],
      "execution_count": null,
      "outputs": [
        {
          "output_type": "stream",
          "text": [
            "{'loss': [1775923.625, 1527244.625, 1304828.875, 1099320.375, 917369.5, 757326.8125, 615725.0625, 493707.15625, 389239.09375, 301418.78125, 228808.78125, 170636.453125, 124275.2421875, 87999.7890625, 60859.0546875, 40964.203125, 26568.03125, 16938.513671875, 10469.7626953125, 6390.75732421875, 4121.48876953125, 2844.123291015625, 2216.327392578125, 1971.9403076171875, 1911.214111328125, 1912.3829345703125, 1956.8870849609375, 1978.3948974609375, 1983.2476806640625, 1978.3463134765625], 'mae': [1325.1522216796875, 1228.9566650390625, 1135.03564453125, 1042.224609375, 952.1380615234375, 864.7823486328125, 779.6710815429688, 697.9318237304688, 619.4207763671875, 544.852783203125, 474.60748291015625, 409.20611572265625, 348.6152648925781, 292.7846374511719, 242.3082733154297, 197.0476531982422, 157.236328125, 122.74759674072266, 94.19183349609375, 71.24652862548828, 54.680599212646484, 43.9879264831543, 37.36579513549805, 33.805965423583984, 32.47135925292969, 32.46684265136719, 32.79213333129883, 33.0169563293457, 33.05751037597656, 33.01459884643555], 'val_loss': [1411584.75, 1207670.375, 1023451.4375, 859376.5, 712952.875, 583669.75, 471229.46875, 374687.03125, 293081.46875, 225217.0, 169773.875, 125227.421875, 90238.71875, 63456.21875, 43437.25, 28895.38671875, 18710.015625, 11785.6328125, 7290.72119140625, 4504.154296875, 2848.647705078125, 1932.519287109375, 1463.2938232421875, 1244.416259765625, 1154.8621826171875, 1124.914306640625, 1116.684326171875, 1115.4239501953125, 1115.420654296875, 1116.1392822265625], 'val_mae': [1186.711669921875, 1097.5782470703125, 1010.3193969726562, 925.698974609375, 843.0404663085938, 762.6472778320312, 685.1002807617188, 610.7113037109375, 539.8969116210938, 473.00067138671875, 410.333251953125, 351.9907531738281, 298.26995849609375, 249.45181274414062, 205.5252685546875, 166.50439453125, 132.50076293945312, 103.17442321777344, 78.47903442382812, 58.99917984008789, 43.82388687133789, 33.01313400268555, 25.46450424194336, 22.10244369506836, 20.927967071533203, 20.724117279052734, 20.804195404052734, 20.941579818725586, 20.941795349121094, 20.848234176635742]}\n"
          ],
          "name": "stdout"
        }
      ]
    },
    {
      "cell_type": "code",
      "metadata": {
        "id": "4M1DpgtWVDWM",
        "colab": {
          "base_uri": "https://localhost:8080/",
          "height": 295
        },
        "outputId": "9f8e6de9-3ed1-47ba-da95-25499741b551"
      },
      "source": [
        "plt.plot(history.history['mae'])\n",
        "plt.title('mae')\n",
        "#plt.ylabel('accuracy')\n",
        "plt.xlabel('epoch')\n",
        "plt.legend(['train'], loc='upper left')\n",
        "plt.show()"
      ],
      "execution_count": null,
      "outputs": [
        {
          "output_type": "display_data",
          "data": {
            "image/png": "[encoded data removed]",
            "text/plain": [
              "<Figure size 432x288 with 1 Axes>"
            ]
          },
          "metadata": {
            "tags": [],
            "needs_background": "light"
          }
        }
      ]
    },
    {
      "cell_type": "code",
      "metadata": {
        "id": "AL-Rd4d2XPyE",
        "colab": {
          "base_uri": "https://localhost:8080/"
        },
        "outputId": "3916884e-2d33-42b2-b82b-cd309b5d81e3"
      },
      "source": [
        "x[153]"
      ],
      "execution_count": null,
      "outputs": [
        {
          "output_type": "execute_result",
          "data": {
            "text/plain": [
              "array([1398, 1411, 1385, 1411])"
            ]
          },
          "metadata": {
            "tags": []
          },
          "execution_count": 20
        }
      ]
    },
    {
      "cell_type": "code",
      "metadata": {
        "id": "Rjff0ub1Xir0",
        "colab": {
          "base_uri": "https://localhost:8080/"
        },
        "outputId": "66a080db-1c1c-42fe-a998-f8ecc382dc4d"
      },
      "source": [
        "x_t = np.array(x[153], np.float32)\n",
        "x_t"
      ],
      "execution_count": null,
      "outputs": [
        {
          "output_type": "execute_result",
          "data": {
            "text/plain": [
              "array([1398., 1411., 1385., 1411.], dtype=float32)"
            ]
          },
          "metadata": {
            "tags": []
          },
          "execution_count": 21
        }
      ]
    },
    {
      "cell_type": "code",
      "metadata": {
        "id": "-VwjPZMrVD2f"
      },
      "source": [
        "y=model.predict(x_test)"
      ],
      "execution_count": null,
      "outputs": []
    },
    {
      "cell_type": "code",
      "metadata": {
        "id": "7eZhxca6XVf3",
        "colab": {
          "base_uri": "https://localhost:8080/"
        },
        "outputId": "101bf045-87fc-4621-e4f8-5a3bf3c1aad1"
      },
      "source": [
        "t_test"
      ],
      "execution_count": null,
      "outputs": [
        {
          "output_type": "execute_result",
          "data": {
            "text/plain": [
              "array([1213, 1204, 1170, 1144, 1145, 1150, 1173, 1186, 1177, 1189, 1170,\n",
              "       1167, 1144, 1086, 1129, 1169, 1162, 1183, 1190, 1227, 1240, 1264,\n",
              "       1253, 1244, 1257, 1245, 1249, 1257, 1259, 1269, 1411], dtype=uint32)"
            ]
          },
          "metadata": {
            "tags": []
          },
          "execution_count": 23
        }
      ]
    },
    {
      "cell_type": "code",
      "metadata": {
        "id": "Cr9pbWVGZbD1",
        "colab": {
          "base_uri": "https://localhost:8080/"
        },
        "outputId": "5348927e-3667-4511-d28a-d2e5a1245f94"
      },
      "source": [
        "print('予測値: ', y[0])\n",
        "print('目標値: ', t_test[0])\n"
      ],
      "execution_count": null,
      "outputs": [
        {
          "output_type": "stream",
          "text": [
            "予測値:  [1223.016]\n",
            "目標値:  1213\n"
          ],
          "name": "stdout"
        }
      ]
    },
    {
      "cell_type": "code",
      "metadata": {
        "id": "scFHhrv9YKLQ",
        "colab": {
          "base_uri": "https://localhost:8080/",
          "height": 281
        },
        "outputId": "51b71800-ad79-4f98-9d62-a6960ff0da7d"
      },
      "source": [
        "plt.plot(y, color = \"red\")\n",
        "plt.plot(ｔ_test,color = \"blue\")"
      ],
      "execution_count": null,
      "outputs": [
        {
          "output_type": "execute_result",
          "data": {
            "text/plain": [
              "[<matplotlib.lines.Line2D at 0x7efdd7223f28>]"
            ]
          },
          "metadata": {
            "tags": []
          },
          "execution_count": 25
        },
        {
          "output_type": "display_data",
          "data": {
            "image/png": "[encoded data removed]",
            "text/plain": [
              "<Figure size 432x288 with 1 Axes>"
            ]
          },
          "metadata": {
            "tags": [],
            "needs_background": "light"
          }
        }
      ]
    },
    {
      "cell_type": "code",
      "metadata": {
        "id": "NvnqVbewYoR3"
      },
      "source": [
        "y2 = model.predict(x_train)"
      ],
      "execution_count": null,
      "outputs": []
    },
    {
      "cell_type": "code",
      "metadata": {
        "id": "oA8ApncfZDah",
        "colab": {
          "base_uri": "https://localhost:8080/",
          "height": 281
        },
        "outputId": "d2a2f937-df71-4f38-d4f8-2cb70f9bf057"
      },
      "source": [
        "plt.plot(y2, color = \"red\")\n",
        "plt.plot(ｔ_train,color = \"blue\")"
      ],
      "execution_count": null,
      "outputs": [
        {
          "output_type": "execute_result",
          "data": {
            "text/plain": [
              "[<matplotlib.lines.Line2D at 0x7efdd5c46b00>]"
            ]
          },
          "metadata": {
            "tags": []
          },
          "execution_count": 27
        },
        {
          "output_type": "display_data",
          "data": {
            "image/png": "[encoded data removed]",
            "text/plain": [
              "<Figure size 432x288 with 1 Axes>"
            ]
          },
          "metadata": {
            "tags": [],
            "needs_background": "light"
          }
        }
      ]
    },
    {
      "cell_type": "markdown",
      "metadata": {
        "id": "N8igCFFCDbxS"
      },
      "source": [
        "評価指標\n",
        "\n",
        "タスクにおけるモデルの性能を測る指標\n",
        "\n",
        "目的関数\n",
        "\n",
        "モデルの学習をする際に最適化する関数\n"
      ]
    },
    {
      "cell_type": "markdown",
      "metadata": {
        "id": "T8P_fhvMFSH_"
      },
      "source": [
        "目的関数には微分できる必要があるなどの制約がある\n",
        "\n",
        "そのため評価指標都目的関数を異なるものにすることがある\n",
        "\n",
        "つまり目的関数が離散的な関数だと重みであるｗを少し変化させたとき変わらないため最適化しにくい"
      ]
    },
    {
      "cell_type": "markdown",
      "metadata": {
        "id": "-D7ng_YZTv2r"
      },
      "source": [
        "時系列データの処理\n",
        "\n",
        "交差検証だと未来のデータを用いて過去のデータを検証するケースがあるので有効ではない"
      ]
    },
    {
      "cell_type": "markdown",
      "metadata": {
        "id": "Jika-0gTUlsl"
      },
      "source": [
        "年間を通した学習・検証になっていないため、季節によって変動する傾向を正確に捉えることができません。そのため、このような学習・検証を行なう場合は、使用するデータが通年になるよう長い期間のデータが必要になると著者は述べています。"
      ]
    },
    {
      "cell_type": "code",
      "metadata": {
        "id": "bzTbTM32ZIbB"
      },
      "source": [
        ""
      ],
      "execution_count": null,
      "outputs": []
    }
  ]
}